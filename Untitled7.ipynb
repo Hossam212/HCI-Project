{
 "cells": [
  {
   "cell_type": "code",
   "execution_count": 1,
   "metadata": {
    "colab": {
     "base_uri": "https://localhost:8080/"
    },
    "id": "SePmnxmf30oY",
    "outputId": "f7910d84-1b20-479c-ebca-a7c5ba8d4c65"
   },
   "outputs": [
    {
     "name": "stdout",
     "output_type": "stream",
     "text": [
      "Defaulting to user installation because normal site-packages is not writeable\n",
      "Collecting opencv-python\n",
      "  Using cached opencv_python-4.10.0.84-cp37-abi3-win_amd64.whl.metadata (20 kB)\n",
      "Requirement already satisfied: numpy>=1.21.2 in c:\\users\\lenovo\\appdata\\roaming\\python\\python313\\site-packages (from opencv-python) (2.1.3)\n",
      "Downloading opencv_python-4.10.0.84-cp37-abi3-win_amd64.whl (38.8 MB)\n",
      "   ---------------------------------------- 0.0/38.8 MB ? eta -:--:--\n",
      "   ---------------------------------------- 0.3/38.8 MB ? eta -:--:--\n",
      "    --------------------------------------- 0.8/38.8 MB 3.0 MB/s eta 0:00:13\n",
      "   - -------------------------------------- 1.6/38.8 MB 3.2 MB/s eta 0:00:12\n",
      "   -- ------------------------------------- 2.4/38.8 MB 3.2 MB/s eta 0:00:12\n",
      "   -- ------------------------------------- 2.9/38.8 MB 3.2 MB/s eta 0:00:12\n",
      "   --- ------------------------------------ 3.4/38.8 MB 3.2 MB/s eta 0:00:11\n",
      "   ---- ----------------------------------- 4.5/38.8 MB 3.2 MB/s eta 0:00:11\n",
      "   ----- ---------------------------------- 5.0/38.8 MB 3.3 MB/s eta 0:00:11\n",
      "   ----- ---------------------------------- 5.8/38.8 MB 3.3 MB/s eta 0:00:11\n",
      "   ------ --------------------------------- 6.6/38.8 MB 3.3 MB/s eta 0:00:10\n",
      "   ------- -------------------------------- 7.1/38.8 MB 3.3 MB/s eta 0:00:10\n",
      "   -------- ------------------------------- 7.9/38.8 MB 3.3 MB/s eta 0:00:10\n",
      "   -------- ------------------------------- 8.7/38.8 MB 3.3 MB/s eta 0:00:10\n",
      "   --------- ------------------------------ 9.2/38.8 MB 3.3 MB/s eta 0:00:10\n",
      "   ---------- ----------------------------- 10.0/38.8 MB 3.3 MB/s eta 0:00:09\n",
      "   ----------- ---------------------------- 10.7/38.8 MB 3.3 MB/s eta 0:00:09\n",
      "   ----------- ---------------------------- 11.3/38.8 MB 3.3 MB/s eta 0:00:09\n",
      "   ------------ --------------------------- 12.1/38.8 MB 3.3 MB/s eta 0:00:09\n",
      "   ------------- -------------------------- 12.8/38.8 MB 3.3 MB/s eta 0:00:08\n",
      "   ------------- -------------------------- 13.4/38.8 MB 3.3 MB/s eta 0:00:08\n",
      "   -------------- ------------------------- 14.2/38.8 MB 3.3 MB/s eta 0:00:08\n",
      "   -------------- ------------------------- 14.4/38.8 MB 3.3 MB/s eta 0:00:08\n",
      "   --------------- ------------------------ 15.5/38.8 MB 3.3 MB/s eta 0:00:08\n",
      "   ---------------- ----------------------- 16.3/38.8 MB 3.3 MB/s eta 0:00:07\n",
      "   ----------------- ---------------------- 17.0/38.8 MB 3.3 MB/s eta 0:00:07\n",
      "   ------------------ --------------------- 17.6/38.8 MB 3.3 MB/s eta 0:00:07\n",
      "   ------------------ --------------------- 18.4/38.8 MB 3.3 MB/s eta 0:00:07\n",
      "   ------------------- -------------------- 19.1/38.8 MB 3.3 MB/s eta 0:00:06\n",
      "   -------------------- ------------------- 19.7/38.8 MB 3.3 MB/s eta 0:00:06\n",
      "   --------------------- ------------------ 20.4/38.8 MB 3.3 MB/s eta 0:00:06\n",
      "   --------------------- ------------------ 21.2/38.8 MB 3.3 MB/s eta 0:00:06\n",
      "   ---------------------- ----------------- 21.8/38.8 MB 3.3 MB/s eta 0:00:06\n",
      "   ----------------------- ---------------- 22.5/38.8 MB 3.3 MB/s eta 0:00:05\n",
      "   ------------------------ --------------- 23.3/38.8 MB 3.3 MB/s eta 0:00:05\n",
      "   ------------------------ --------------- 23.9/38.8 MB 3.3 MB/s eta 0:00:05\n",
      "   ------------------------- -------------- 24.6/38.8 MB 3.3 MB/s eta 0:00:05\n",
      "   -------------------------- ------------- 25.4/38.8 MB 3.3 MB/s eta 0:00:05\n",
      "   -------------------------- ------------- 26.0/38.8 MB 3.3 MB/s eta 0:00:04\n",
      "   --------------------------- ------------ 26.7/38.8 MB 3.3 MB/s eta 0:00:04\n",
      "   ---------------------------- ----------- 27.5/38.8 MB 3.3 MB/s eta 0:00:04\n",
      "   ---------------------------- ----------- 28.0/38.8 MB 3.3 MB/s eta 0:00:04\n",
      "   ----------------------------- ---------- 28.8/38.8 MB 3.3 MB/s eta 0:00:04\n",
      "   ------------------------------ --------- 29.4/38.8 MB 3.3 MB/s eta 0:00:03\n",
      "   ------------------------------- -------- 30.1/38.8 MB 3.3 MB/s eta 0:00:03\n",
      "   ------------------------------- -------- 30.9/38.8 MB 3.3 MB/s eta 0:00:03\n",
      "   -------------------------------- ------- 31.5/38.8 MB 3.3 MB/s eta 0:00:03\n",
      "   --------------------------------- ------ 32.2/38.8 MB 3.3 MB/s eta 0:00:03\n",
      "   ---------------------------------- ----- 33.0/38.8 MB 3.3 MB/s eta 0:00:02\n",
      "   ---------------------------------- ----- 33.6/38.8 MB 3.3 MB/s eta 0:00:02\n",
      "   ----------------------------------- ---- 34.3/38.8 MB 3.3 MB/s eta 0:00:02\n",
      "   ----------------------------------- ---- 34.9/38.8 MB 3.3 MB/s eta 0:00:02\n",
      "   ------------------------------------ --- 35.7/38.8 MB 3.3 MB/s eta 0:00:01\n",
      "   ------------------------------------- -- 36.4/38.8 MB 3.3 MB/s eta 0:00:01\n",
      "   -------------------------------------- - 37.0/38.8 MB 3.3 MB/s eta 0:00:01\n",
      "   -------------------------------------- - 37.7/38.8 MB 3.3 MB/s eta 0:00:01\n",
      "   ---------------------------------------  38.5/38.8 MB 3.3 MB/s eta 0:00:01\n",
      "   ---------------------------------------- 38.8/38.8 MB 3.3 MB/s eta 0:00:00\n",
      "Installing collected packages: opencv-python\n",
      "Successfully installed opencv-python-4.10.0.84\n"
     ]
    }
   ],
   "source": [
    "!pip install opencv-python"
   ]
  },
  {
   "cell_type": "code",
   "execution_count": 2,
   "metadata": {
    "colab": {
     "base_uri": "https://localhost:8080/"
    },
    "id": "TmkHeuc32wty",
    "outputId": "4caf1a21-b359-44ba-d932-74b2494d84b7"
   },
   "outputs": [
    {
     "name": "stdout",
     "output_type": "stream",
     "text": [
      "Defaulting to user installation because normal site-packages is not writeable\n",
      "Requirement already satisfied: roboflow in c:\\users\\lenovo\\appdata\\roaming\\python\\python313\\site-packages (1.1.49)\n",
      "Requirement already satisfied: certifi in c:\\users\\lenovo\\appdata\\roaming\\python\\python313\\site-packages (from roboflow) (2024.8.30)\n",
      "Requirement already satisfied: idna==3.7 in c:\\users\\lenovo\\appdata\\roaming\\python\\python313\\site-packages (from roboflow) (3.7)\n",
      "Requirement already satisfied: cycler in c:\\users\\lenovo\\appdata\\roaming\\python\\python313\\site-packages (from roboflow) (0.12.1)\n",
      "Requirement already satisfied: kiwisolver>=1.3.1 in c:\\users\\lenovo\\appdata\\roaming\\python\\python313\\site-packages (from roboflow) (1.4.7)\n",
      "Requirement already satisfied: matplotlib in c:\\users\\lenovo\\appdata\\roaming\\python\\python313\\site-packages (from roboflow) (3.9.3)\n",
      "Requirement already satisfied: numpy>=1.18.5 in c:\\users\\lenovo\\appdata\\roaming\\python\\python313\\site-packages (from roboflow) (2.1.3)\n",
      "Requirement already satisfied: opencv-python-headless==4.10.0.84 in c:\\users\\lenovo\\appdata\\roaming\\python\\python313\\site-packages (from roboflow) (4.10.0.84)\n",
      "Requirement already satisfied: Pillow>=7.1.2 in c:\\users\\lenovo\\appdata\\roaming\\python\\python313\\site-packages (from roboflow) (11.0.0)\n",
      "Requirement already satisfied: python-dateutil in c:\\users\\lenovo\\appdata\\roaming\\python\\python313\\site-packages (from roboflow) (2.9.0.post0)\n",
      "Requirement already satisfied: python-dotenv in c:\\users\\lenovo\\appdata\\roaming\\python\\python313\\site-packages (from roboflow) (1.0.1)\n",
      "Requirement already satisfied: requests in c:\\users\\lenovo\\appdata\\roaming\\python\\python313\\site-packages (from roboflow) (2.32.3)\n",
      "Requirement already satisfied: six in c:\\users\\lenovo\\appdata\\roaming\\python\\python313\\site-packages (from roboflow) (1.17.0)\n",
      "Requirement already satisfied: urllib3>=1.26.6 in c:\\users\\lenovo\\appdata\\roaming\\python\\python313\\site-packages (from roboflow) (2.2.3)\n",
      "Requirement already satisfied: tqdm>=4.41.0 in c:\\users\\lenovo\\appdata\\roaming\\python\\python313\\site-packages (from roboflow) (4.67.1)\n",
      "Requirement already satisfied: PyYAML>=5.3.1 in c:\\users\\lenovo\\appdata\\roaming\\python\\python313\\site-packages (from roboflow) (6.0.2)\n",
      "Requirement already satisfied: requests-toolbelt in c:\\users\\lenovo\\appdata\\roaming\\python\\python313\\site-packages (from roboflow) (1.0.0)\n",
      "Requirement already satisfied: filetype in c:\\users\\lenovo\\appdata\\roaming\\python\\python313\\site-packages (from roboflow) (1.2.0)\n",
      "Requirement already satisfied: colorama in c:\\users\\lenovo\\appdata\\roaming\\python\\python313\\site-packages (from tqdm>=4.41.0->roboflow) (0.4.6)\n",
      "Requirement already satisfied: contourpy>=1.0.1 in c:\\users\\lenovo\\appdata\\roaming\\python\\python313\\site-packages (from matplotlib->roboflow) (1.3.1)\n",
      "Requirement already satisfied: fonttools>=4.22.0 in c:\\users\\lenovo\\appdata\\roaming\\python\\python313\\site-packages (from matplotlib->roboflow) (4.55.2)\n",
      "Requirement already satisfied: packaging>=20.0 in c:\\users\\lenovo\\appdata\\roaming\\python\\python313\\site-packages (from matplotlib->roboflow) (24.2)\n",
      "Requirement already satisfied: pyparsing>=2.3.1 in c:\\users\\lenovo\\appdata\\roaming\\python\\python313\\site-packages (from matplotlib->roboflow) (3.2.0)\n",
      "Requirement already satisfied: charset-normalizer<4,>=2 in c:\\users\\lenovo\\appdata\\roaming\\python\\python313\\site-packages (from requests->roboflow) (3.4.0)\n"
     ]
    }
   ],
   "source": [
    "!pip install roboflow"
   ]
  },
  {
   "cell_type": "code",
   "execution_count": null,
   "metadata": {
    "id": "gqyGxXZW2rEK"
   },
   "outputs": [],
   "source": [
    "import cv2\n",
    "from roboflow import Roboflow\n",
    "import matplotlib.pyplot as plt\n",
    "import numpy as np\n",
    "import socket\n",
    "import threading"
   ]
  },
  {
   "cell_type": "code",
   "execution_count": 19,
   "metadata": {
    "colab": {
     "base_uri": "https://localhost:8080/"
    },
    "id": "L6yR06HF2XVl",
    "outputId": "44e16beb-bb59-4242-8ce1-101d9945bffc"
   },
   "outputs": [
    {
     "name": "stdout",
     "output_type": "stream",
     "text": [
      "loading Roboflow workspace...\n",
      "loading Roboflow project...\n",
      "Connected to the server.\n",
      "egypt\n",
      "SENDTO:1|egypt, 279.0, 214.0\n",
      "egypt\n",
      "SENDTO:1|egypt, 312.0, 218.5\n",
      "egypt\n",
      "SENDTO:1|egypt, 285.5, 213.5\n",
      "egypt\n",
      "SENDTO:1|egypt, 276.0, 215.0\n",
      "egypt\n",
      "SENDTO:1|egypt, 290.5, 214.0\n",
      "egypt\n",
      "SENDTO:1|egypt, 285.5, 214.0\n",
      "egypt\n",
      "SENDTO:1|egypt, 289.5, 216.5\n",
      "egypt\n",
      "SENDTO:1|egypt, 294.0, 211.0\n",
      "egypt\n",
      "SENDTO:1|egypt, 292.0, 209.5\n"
     ]
    },
    {
     "name": "stdout",
     "output_type": "stream",
     "text": [
      "Error receiving message: [WinError 10054] An existing connection was forcibly closed by the remote host\n"
     ]
    }
   ],
   "source": [
    "import cv2\n",
    "from roboflow import Roboflow  # Make sure you have roboflow installed\n",
    "\n",
    "SERVER_ADDRESS = 'DESKTOP-1RLK4BP'  # Replace with the actual server address\n",
    "SERVER_PORT = 8000\n",
    "\n",
    "# Function to handle receiving messages from the server\n",
    "def receive_messages(sock):\n",
    "    while True:\n",
    "        try:\n",
    "            message = sock.recv(1024).decode('utf-8')\n",
    "            #if message:\n",
    "                #print(f\"Received from server: {message}\")\n",
    "            #else:\n",
    "                #break\n",
    "        except Exception as e:\n",
    "            print(f\"Error receiving message: {e}\")\n",
    "            break\n",
    "\n",
    "# Function to start the client and connect to the server\n",
    "def start_client():\n",
    "    client_socket = socket.socket(socket.AF_INET, socket.SOCK_STREAM)\n",
    "    try:\n",
    "        client_socket.connect((SERVER_ADDRESS, SERVER_PORT))\n",
    "        print(\"Connected to the server.\")\n",
    "\n",
    "        # Start a thread to listen for messages from the server\n",
    "        threading.Thread(target=receive_messages, args=(client_socket,), daemon=True).start()\n",
    "\n",
    "        return client_socket\n",
    "\n",
    "    except Exception as e:\n",
    "        print(f\"Failed to connect to the server: {e}\")\n",
    "        return None\n",
    "\n",
    "# Initialize Roboflow with the API key\n",
    "rf = Roboflow(api_key=\"xz8xVdWOboKdOaCGw2mz\")  # Replace with actual API key\n",
    "project = rf.workspace().project(\"hci-objects\")  # Replace with project name\n",
    "model = project.version(1).model  # Adjust version if needed\n",
    "\n",
    "client_socket = start_client()  \n",
    "# Open the webcam\n",
    "cap = cv2.VideoCapture(0)\n",
    "\n",
    "if not cap.isOpened():\n",
    "    print(\"Error: Could not open webcam.\")\n",
    "    exit()\n",
    "\n",
    "while cap.isOpened():\n",
    "    ret, frame = cap.read()\n",
    "    if not ret:\n",
    "        print(\"Error: Could not read frame.\")\n",
    "        break\n",
    "    # Get predictions from the model\n",
    "    results = model.predict(frame, confidence=40, overlap=30).json()\n",
    "\n",
    "    # Draw bounding boxes on the frame\n",
    "    for prediction in results['predictions']:\n",
    "        x_min = int(prediction['x'] - prediction['width'] / 2)\n",
    "        y_min = int(prediction['y'] - prediction['height'] / 2)\n",
    "        x_max = int(prediction['x'] + prediction['width'] / 2)\n",
    "        y_max = int(prediction['y'] + prediction['height'] / 2)\n",
    "        centerX = (x_max + x_min)/2\n",
    "        centerY = (y_max + y_min)/2\n",
    "        label = prediction['class']\n",
    "        print(label)\n",
    "        if client_socket:\n",
    "            try:\n",
    "                message = f\"SENDTO:1|{label}, {centerX}, {centerY}\"\n",
    "                client_socket.send(message.encode('utf-8'))\n",
    "                print(f\"{message}\")\n",
    "            except Exception as e:\n",
    "                print(f\"Error sending message: {e}\")\n",
    "        confidence = prediction['confidence']\n",
    "\n",
    "        # Draw rectangle and label\n",
    "        cv2.rectangle(frame, (x_min, y_min), (x_max, y_max), (0, 255, 0), 2)\n",
    "        cv2.putText(frame, f\"{label} {confidence:.2f}\", (x_min, y_min - 10),\n",
    "                    cv2.FONT_HERSHEY_SIMPLEX, 0.5, (0, 255, 0), 2)\n",
    "\n",
    "    # Display the frame with predictions\n",
    "    cv2.imshow(\"Roboflow Object Detection\", frame)\n",
    "\n",
    "    # Exit loop on pressing 'q'\n",
    "    if cv2.waitKey(1) & 0xFF == ord('q'):\n",
    "        break\n",
    "\n",
    "# Release resources\n",
    "cap.release()\n",
    "cv2.destroyAllWindows()\n"
   ]
  },
  {
   "cell_type": "code",
   "execution_count": null,
   "metadata": {
    "id": "McBOmrMD2pwV"
   },
   "outputs": [],
   "source": []
  }
 ],
 "metadata": {
  "colab": {
   "provenance": []
  },
  "kernelspec": {
   "display_name": "Python 3",
   "name": "python3"
  },
  "language_info": {
   "codemirror_mode": {
    "name": "ipython",
    "version": 3
   },
   "file_extension": ".py",
   "mimetype": "text/x-python",
   "name": "python",
   "nbconvert_exporter": "python",
   "pygments_lexer": "ipython3",
   "version": "3.13.0"
  }
 },
 "nbformat": 4,
 "nbformat_minor": 0
}
